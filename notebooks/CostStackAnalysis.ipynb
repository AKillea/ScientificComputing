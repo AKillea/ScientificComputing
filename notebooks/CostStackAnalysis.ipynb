{
 "cells": [
  {
   "cell_type": "markdown",
   "metadata": {},
   "source": [
    "ArcGIS Raster Bands to Numpy Stack for Analysis"
   ]
  },
  {
   "cell_type": "code",
   "execution_count": 15,
   "metadata": {},
   "outputs": [],
   "source": [
    "import numpy as np\n",
    "import arcpy"
   ]
  },
  {
   "cell_type": "code",
   "execution_count": 10,
   "metadata": {},
   "outputs": [],
   "source": [
    "stacked_array = np.load('../data/DuplinCostStack.npy')"
   ]
  },
  {
   "cell_type": "code",
   "execution_count": 11,
   "metadata": {},
   "outputs": [
    {
     "data": {
      "text/plain": [
       "(464, 190, 223)"
      ]
     },
     "execution_count": 11,
     "metadata": {},
     "output_type": "execute_result"
    }
   ],
   "source": [
    "#Array is 464 layers of 190 x 223 data\n",
    "stacked_array.shape"
   ]
  },
  {
   "cell_type": "code",
   "execution_count": 12,
   "metadata": {},
   "outputs": [
    {
     "data": {
      "text/plain": [
       "(190, 223)"
      ]
     },
     "execution_count": 12,
     "metadata": {},
     "output_type": "execute_result"
    }
   ],
   "source": [
    "#Select a single layer\n",
    "layer1 =stacked_array[0,:,:]\n",
    "layer1.shape"
   ]
  },
  {
   "cell_type": "code",
   "execution_count": 13,
   "metadata": {},
   "outputs": [
    {
     "data": {
      "text/plain": [
       "array([[1.31790966e-05, 1.54349780e-05, 1.54349780e-05, ...,\n",
       "        2.37461199e-05, 2.37461199e-05, 2.37461199e-05],\n",
       "       [1.31790966e-05, 1.54349780e-05, 1.54349780e-05, ...,\n",
       "        2.37461199e-05, 1.54349780e-05, 2.37461199e-05],\n",
       "       [1.31790966e-05, 1.43664026e-05, 1.54349780e-05, ...,\n",
       "        2.37461199e-05, 2.37461199e-05, 2.37461199e-05],\n",
       "       ...,\n",
       "       [1.42476720e-05, 1.42476720e-05, 1.42476720e-05, ...,\n",
       "        3.56191799e-04, 3.56191799e-04, 3.56191799e-04],\n",
       "       [1.54349780e-05, 1.54349780e-05, 1.54349780e-05, ...,\n",
       "        3.56191799e-04, 3.56191799e-04, 3.56191799e-04],\n",
       "       [1.42476720e-05, 1.54349780e-05, 1.42476720e-05, ...,\n",
       "        3.56191799e-04, 3.56191799e-04, 3.56191799e-04]])"
      ]
     },
     "execution_count": 13,
     "metadata": {},
     "output_type": "execute_result"
    }
   ],
   "source": [
    "#Display with imshow\n",
    "layer1."
   ]
  }
 ],
 "metadata": {
  "kernelspec": {
   "display_name": "Python 3",
   "language": "python",
   "name": "python3"
  },
  "language_info": {
   "codemirror_mode": {
    "name": "ipython",
    "version": 3
   },
   "file_extension": ".py",
   "mimetype": "text/x-python",
   "name": "python",
   "nbconvert_exporter": "python",
   "pygments_lexer": "ipython3",
   "version": "3.6.8"
  }
 },
 "nbformat": 4,
 "nbformat_minor": 2
}
