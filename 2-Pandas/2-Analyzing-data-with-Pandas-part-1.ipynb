{
 "cells": [
  {
   "cell_type": "markdown",
   "metadata": {},
   "source": [
    "Data instructions:\n",
    "* Navigate to : https://waterdata.usgs.gov/nc/nwis/\n",
    "* Select \"Surface Water\"\n",
    "* Select \"Daily Data\"\n",
    "* Select \"Hydrologic Unit (by Name)\n",
    "* Select \n",
    " * \"03020101 Upper Tar\" \n",
    " * check Streamflow(ft3/s) and Gage height\n",
    " * Output options = Tab-separated data | YYYY-MM-DD | Display in browser\n",
    " * Click Submit\n",
    "* Copy the URL of the generated page"
   ]
  },
  {
   "cell_type": "markdown",
   "metadata": {},
   "source": [
    "1. [Calculating and updating fields](#1.-Calculating-and-updating-fields)\n",
    "* [Selecting data in a dataframe](#2.-Selecting-data-from-a-dataframe)\n",
    "* [Selecting rows of data from a dataframe]\n",
    "  * Using queries\n",
    "  * Using masks\n",
    "* [Grouping and aggregating data in a dataframe]\n",
    "* [Transforming or \"pivoting\" tables]\n",
    "* [Joining tables]"
   ]
  },
  {
   "cell_type": "code",
   "execution_count": null,
   "metadata": {},
   "outputs": [],
   "source": [
    "#Import data\n",
    "import pandas as pd"
   ]
  },
  {
   "cell_type": "code",
   "execution_count": null,
   "metadata": {},
   "outputs": [],
   "source": [
    "#Initial import of surveys dataset\n",
    "survey_df = pd.read_csv('../data/surveys.csv',\n",
    "                        index_col='record_id',\n",
    "                        dtype={'plot_id':'str'})\n",
    "survey_df.head()"
   ]
  },
  {
   "cell_type": "markdown",
   "metadata": {},
   "source": [
    "## 1. Calculating and updating fields\n",
    "A typical operation in dataframes is creating new fields from values in other fields. We'll show this by computing hindfoodt_length (currently in mm) into inches. (25.4 mm per inch...)"
   ]
  },
  {
   "cell_type": "code",
   "execution_count": null,
   "metadata": {},
   "outputs": [],
   "source": [
    "#Create a field of hindfoot length in inches\n",
    "survey_df['hindfoot_length_in'] = survey_df['hindfoot_length'] / 25.4\n",
    "\n",
    "#Review the output\n",
    "survey_df.head()"
   ]
  },
  {
   "cell_type": "markdown",
   "metadata": {},
   "source": [
    "► YOU TRY IT:\n",
    "* Create a new column \"weight_oz\" converting weigth (grams) into ounces (28.35 g/oz)"
   ]
  },
  {
   "cell_type": "code",
   "execution_count": null,
   "metadata": {},
   "outputs": [],
   "source": [
    "#Create a field of weight in ounces\n",
    "\n",
    "\n",
    "#Review the output\n",
    "survey_df.tail()"
   ]
  },
  {
   "cell_type": "markdown",
   "metadata": {},
   "source": [
    "## 2. Selecting data from a dataframe\n",
    "We often want to isolate specific rows and/or columns of data from our dataframe for further analysis. Pandas offers many ways to do this. Here we'll review these techniques. \n",
    "\n",
    "### 2a. Selecting single rows, select rows, or row *slices* using `iloc`\n",
    "Recall that dataframes can be considered lists (rows) of lists (columns). As such, we can select specific rows by their **integer index**, either indivdually or in *slices*. This is done using the dataframe's `iloc` method.\n",
    "\n",
    "Refer to the [Pandas help on `iloc`](https://pandas.pydata.org/pandas-docs/stable/reference/api/pandas.DataFrame.iloc.html) for more info on this functionality: \n",
    "> _**`iloc`** is short for integer location_"
   ]
  },
  {
   "cell_type": "code",
   "execution_count": null,
   "metadata": {},
   "outputs": [],
   "source": [
    "#Fetch the 4th row of data\n",
    "survey_df.iloc[3]"
   ]
  },
  {
   "cell_type": "code",
   "execution_count": null,
   "metadata": {},
   "outputs": [],
   "source": [
    "#Fetch the 101st thru 110th rows of data\n",
    "survey_df.iloc[100:110]"
   ]
  },
  {
   "cell_type": "code",
   "execution_count": null,
   "metadata": {},
   "outputs": [],
   "source": [
    "#Fetch the 3rd, 5th, and 10th rows\n",
    "survey_df.iloc[[2,4,9]]"
   ]
  },
  {
   "cell_type": "markdown",
   "metadata": {},
   "source": [
    "### 2b. Selecting rows and columns using  `iloc` \n",
    "The `iloc` method can also be used to select columns. Which columns to select are passed as the second parameter in the `iloc` function. Therefore, we need to specify which rows we want to fetch first. If we want to retrieve the selected columns for all rows, we can just pass a \"`:`\" as the first parameter. "
   ]
  },
  {
   "cell_type": "code",
   "execution_count": null,
   "metadata": {},
   "outputs": [],
   "source": [
    "#Select all rows and the 4th column of the dataset\n",
    "survey_df.iloc[:,3]"
   ]
  },
  {
   "cell_type": "code",
   "execution_count": null,
   "metadata": {},
   "outputs": [],
   "source": [
    "#Select the first 5 rows and the 4th column of the dataset\n",
    "survey_df.iloc[:5,3]"
   ]
  },
  {
   "cell_type": "markdown",
   "metadata": {},
   "source": [
    "→ ***So you see, selecting subsets is just a matter of messing around with the row/column integer indices and inserting them into the `iloc` method.***"
   ]
  },
  {
   "cell_type": "markdown",
   "metadata": {},
   "source": [
    "### 2c. Selecting rows and columns using  `loc` \n",
    "While `iloc` selects rows and columns by their absolute _position_, `loc` selects rows and columns by their _labels_. Yes, each row and column has a label. A column's label is its ***column name***; a row's label is its ***label index*** (not to be confused with its _integer_ index, which is simply its row number).\n",
    "\n",
    "When Pandas reads in a CSV file, the CSV file determines the column names, but row labels are assigned a sequential numeric value by default. When we read in data into our `surveys_df`, we specified the values inthe `record_id` column to become our index, i.e., our row labels. We can now use these labels to select rows, and combine them with column names to select row/column combinations:"
   ]
  },
  {
   "cell_type": "code",
   "execution_count": null,
   "metadata": {},
   "outputs": [],
   "source": [
    "#Fetch the row with row label of 10\n",
    "survey_df.loc[10]"
   ]
  },
  {
   "cell_type": "code",
   "execution_count": null,
   "metadata": {},
   "outputs": [],
   "source": [
    "#Fetch value in the species_id column in the row with row label of 10 \n",
    "survey_df.loc[10,'species_id']"
   ]
  },
  {
   "cell_type": "markdown",
   "metadata": {},
   "source": [
    "Because our dataframe's row index (i.e. its row labels) happens to be numeric, we can fetch slices of values. We can also fetch multiple columns by passing them in as a list. "
   ]
  },
  {
   "cell_type": "code",
   "execution_count": null,
   "metadata": {},
   "outputs": [],
   "source": [
    "#Fetch value in the species_id column in the row with rows with labels between 10 and 20\n",
    "survey_df.loc[10:20,['species_id','sex']]"
   ]
  },
  {
   "cell_type": "markdown",
   "metadata": {},
   "source": [
    "### 2d. Selecting rows based on criteria - using _queries_\n",
    "Instead of selecting data by position or by index, we can also query our dataframe for all records meeting specific criteria. In this first example, we'll use the dataframe's `query()` function. "
   ]
  },
  {
   "cell_type": "code",
   "execution_count": null,
   "metadata": {},
   "outputs": [],
   "source": [
    "#Fetch all records from the year 1997 into a new variable\n",
    "records_1997 = survey_df.query('year == 1997')\n",
    "records_1997.shape"
   ]
  },
  {
   "cell_type": "code",
   "execution_count": null,
   "metadata": {},
   "outputs": [],
   "source": [
    "#Fetch all records from 1997 for female individuals\n",
    "females_1997 = survey_df.query('year == 1997 & sex == \"F\"')\n",
    "females_1997.shape"
   ]
  },
  {
   "cell_type": "markdown",
   "metadata": {},
   "source": [
    "### 2e. Selecting rows based on criteria - using _masks_\n",
    "Queries are handy, but as more criteria are used, the query statement can get cumbersome. The use of masks provide a somewhat more simplified approach, or at least a more modular approach. \n",
    "\n",
    "A \"mask\" is a Python series (i.e. one column of data) with a Boolean values for each row:"
   ]
  },
  {
   "cell_type": "code",
   "execution_count": null,
   "metadata": {},
   "outputs": [],
   "source": [
    "survey_df"
   ]
  },
  {
   "cell_type": "code",
   "execution_count": null,
   "metadata": {},
   "outputs": [],
   "source": [
    "#Create a mask for all records with hindfeet smaller than 35mm\n",
    "mask_smallfeet = survey_df['hindfoot_length'] < 35\n",
    "mask_smallfeet"
   ]
  },
  {
   "cell_type": "markdown",
   "metadata": {},
   "source": [
    "We can now apply this mask to select records where the mask value is true by using it with the `loc` method. "
   ]
  },
  {
   "cell_type": "code",
   "execution_count": null,
   "metadata": {},
   "outputs": [],
   "source": [
    "survey_df.loc[mask_smallfeet]"
   ]
  },
  {
   "cell_type": "markdown",
   "metadata": {},
   "source": [
    "What's nice about masks is that we can combine multiple masks. Think of each Boolean value as as on/off switch that determines whether or not the value is added to the final set. We use `&` [\"and\" switch] to combine switches such that each must be \"on\", and `|` [\"or\" switch] to require only one switch to be on. "
   ]
  },
  {
   "cell_type": "code",
   "execution_count": null,
   "metadata": {},
   "outputs": [],
   "source": [
    "#Create a mask of females\n",
    "mask_male = survey_df['sex'] == 'M'\n",
    "mask_male\n",
    "\n",
    "#Create a mask for records colected in April\n",
    "mask_april = survey_df['month'] == 4"
   ]
  },
  {
   "cell_type": "code",
   "execution_count": null,
   "metadata": {},
   "outputs": [],
   "source": [
    "#Filter records meeting all criteria\n",
    "data_subset = survey_df.loc[mask_smallfeet & mask_female & mask_april]\n",
    "data_subset.shape"
   ]
  },
  {
   "cell_type": "code",
   "execution_count": null,
   "metadata": {},
   "outputs": [],
   "source": [
    "#Filter records meeting any criteria\n",
    "data_subset = survey_df.loc[mask_smallfeet | mask_female | mask_april]\n",
    "data_subset.shape"
   ]
  },
  {
   "cell_type": "markdown",
   "metadata": {},
   "source": [
    "#### ►Knowledge check:\n",
    "* Use the `query()` function to select all male individuals with weight greater than 41 g. \n",
    " * What is the median hindfoot length of this population? \n",
    "* Perform the same analysis using masks. "
   ]
  },
  {
   "cell_type": "code",
   "execution_count": null,
   "metadata": {},
   "outputs": [],
   "source": [
    "#Extract males weighing more than 41 g - using query\n",
    "subset = survey_df.query(\"sex == 'M' and weight > 41\")\n",
    "subset['hindfoot_length'].median()"
   ]
  },
  {
   "cell_type": "code",
   "execution_count": null,
   "metadata": {},
   "outputs": [],
   "source": [
    "#Extract males weighing more than 41 g - using masks\n",
    "mask_weight = survey_df['weight'] > 41\n",
    "subset_2 = survey_df.loc[mask_male & mask_weight]\n",
    "subset_2['hindfoot_length'].median()"
   ]
  },
  {
   "cell_type": "markdown",
   "metadata": {},
   "source": [
    "### 2f. Updating values in selected rows/columns\n",
    "We've learned how to select data in specific rows and columns. Now we'll update those values.\n",
    "\n",
    "Our dataset has some erroneous data: records occuring on the \"31st\" day of April (which has only 30 days in it). We'll replace those dates to be the 30th day of April. To do this, we have to select rows where the month is '4' and the day is '31'. And then with those rows selected, we'll update the the values in the day column to be 30. "
   ]
  },
  {
   "cell_type": "code",
   "execution_count": null,
   "metadata": {},
   "outputs": [],
   "source": [
    "#Create masks for day = 30 and month = 4\n",
    "mask_day = survey_df['day'] == 31\n",
    "mask_april = survey_df['month'] == 4 \n",
    "mask_sept = survey_df['month'] == 9"
   ]
  },
  {
   "cell_type": "markdown",
   "metadata": {},
   "source": [
    "If we apply the masks, it returns a dataframe of that selection"
   ]
  },
  {
   "cell_type": "code",
   "execution_count": null,
   "metadata": {},
   "outputs": [],
   "source": [
    "#Apply the masks\n",
    "survey_df.loc[mask_day & (mask_april | mask_sept)]"
   ]
  },
  {
   "cell_type": "markdown",
   "metadata": {},
   "source": [
    "We can add a column designation to just get one column with the selected rows:"
   ]
  },
  {
   "cell_type": "code",
   "execution_count": null,
   "metadata": {},
   "outputs": [],
   "source": [
    "#Fetch the just the day column of the filtered rows\n",
    "survey_df.loc[mask_day & (mask_april | mask_sept), 'day']"
   ]
  },
  {
   "cell_type": "markdown",
   "metadata": {},
   "source": [
    "Rather than just display to the screen, we can assign and new value to this selection"
   ]
  },
  {
   "cell_type": "code",
   "execution_count": null,
   "metadata": {},
   "outputs": [],
   "source": [
    "#Update the values\n",
    "survey_df.loc[mask_day & (mask_april | mask_sept), 'day'] = 30"
   ]
  },
  {
   "cell_type": "markdown",
   "metadata": {},
   "source": [
    "Check our results..."
   ]
  },
  {
   "cell_type": "code",
   "execution_count": null,
   "metadata": {},
   "outputs": [],
   "source": [
    "#What's the largest value in the day column for records where month = 4\n",
    "survey_df.query('month == 4 or month == 9')['day'].max()"
   ]
  },
  {
   "cell_type": "markdown",
   "metadata": {},
   "source": [
    "With the dates fixed, we can now create a date attribute"
   ]
  },
  {
   "cell_type": "code",
   "execution_count": null,
   "metadata": {},
   "outputs": [],
   "source": [
    "survey_df['date'] = pd.to_datetime(survey_df[['year','month','day']])\n",
    "survey_df.head()"
   ]
  },
  {
   "cell_type": "markdown",
   "metadata": {},
   "source": [
    "## 3. Grouping data\n",
    "Here, we will learn how to use `pandas.DataFrame.groupby` which is a handy method for compressing large amounts of data and computing statistics for subgroups.\n",
    "\n",
    "We will use the groupby method to calculate the average weight for each month trough these main steps:\n",
    "* grouping the data based on year and month\n",
    "* Calculating the average for each month (each group)\n",
    "* Storing those values into a new DataFrame monthly_data\n",
    "\n",
    "Before we start grouping the data, let’s once more check how our input data looks like:"
   ]
  },
  {
   "cell_type": "code",
   "execution_count": null,
   "metadata": {},
   "outputs": [],
   "source": [
    "#Display the number of records for each month\n",
    "survey_df['month'].value_counts()"
   ]
  },
  {
   "cell_type": "markdown",
   "metadata": {},
   "source": [
    "We have several rows of data for each month. What we want to do is group our data into a new table showing one row for each month, and the aggregate values of 'hindfoot_lenght' and 'weight'. "
   ]
  },
  {
   "cell_type": "code",
   "execution_count": null,
   "metadata": {},
   "outputs": [],
   "source": [
    "grouped_data = survey_df.groupby[['year','month']]"
   ]
  },
  {
   "cell_type": "markdown",
   "metadata": {},
   "source": [
    "## 4. Transforming or \"pivoting\" tables"
   ]
  },
  {
   "cell_type": "markdown",
   "metadata": {},
   "source": [
    "## 5. Joining tables"
   ]
  }
 ],
 "metadata": {
  "kernelspec": {
   "display_name": "Python 3",
   "language": "python",
   "name": "python3"
  },
  "language_info": {
   "codemirror_mode": {
    "name": "ipython",
    "version": 3
   },
   "file_extension": ".py",
   "mimetype": "text/x-python",
   "name": "python",
   "nbconvert_exporter": "python",
   "pygments_lexer": "ipython3",
   "version": "3.6.10"
  }
 },
 "nbformat": 4,
 "nbformat_minor": 4
}
