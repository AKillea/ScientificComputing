{
 "cells": [
  {
   "cell_type": "markdown",
   "metadata": {},
   "source": [
    "# Processing Data With Pandas\n",
    "During the first part of this lesson you learned the basics of pandas data structures (Series and DataFrame) and got familiar with basic methods loading and exploring data. Here, we will continue with basic data manipulation and analysis methods such calculations and selections.\n",
    "\n",
    "Our focus here will be the following\n",
    "1. Basic calculations\n",
    "* Filtering and updating data\n",
    "* Dealing with missing data\n",
    "* Data type conversions\n",
    "* Unique values\n",
    "* Sorting data\n",
    "* Grouping and transforming data\n",
    "* Joining data\n",
    "* Writing data to a file\n",
    "\n",
    "---\n",
    "We are now working in a new notebook file and we need to import pandas again."
   ]
  },
  {
   "cell_type": "code",
   "execution_count": 1,
   "metadata": {},
   "outputs": [],
   "source": [
    "import pandas as pd"
   ]
  },
  {
   "cell_type": "markdown",
   "metadata": {},
   "source": [
    "Let's work with the the HUC_12 land cover data we used in the last exercise. Again these data are stored on an online repository which we can read directly with Pandas. However, we must be sure to specify the `HUC_12` be read in as a string, not as a number."
   ]
  },
  {
   "cell_type": "code",
   "execution_count": 8,
   "metadata": {},
   "outputs": [],
   "source": [
    "# Re-read EnviroAtlas data into the land_df dataframe, ensuring HUC_12 is a string\n",
    "data_url = 'https://github.com/ENV859/EnviroAtlasData/blob/main/LandCover.csv?raw=true'\n",
    "land_df = pd.read_csv(data_url,dtype={'HUC_12':'str'})"
   ]
  },
  {
   "cell_type": "markdown",
   "metadata": {},
   "source": [
    "It's always a good idea to view the data, to ensure it was read correctly"
   ]
  },
  {
   "cell_type": "code",
   "execution_count": 9,
   "metadata": {},
   "outputs": [
    {
     "data": {
      "text/html": [
       "<div>\n",
       "<style scoped>\n",
       "    .dataframe tbody tr th:only-of-type {\n",
       "        vertical-align: middle;\n",
       "    }\n",
       "\n",
       "    .dataframe tbody tr th {\n",
       "        vertical-align: top;\n",
       "    }\n",
       "\n",
       "    .dataframe thead th {\n",
       "        text-align: right;\n",
       "    }\n",
       "</style>\n",
       "<table border=\"1\" class=\"dataframe\">\n",
       "  <thead>\n",
       "    <tr style=\"text-align: right;\">\n",
       "      <th></th>\n",
       "      <th>HUC_12</th>\n",
       "      <th>N_INDEX</th>\n",
       "      <th>PFOR</th>\n",
       "      <th>PWETL</th>\n",
       "      <th>PDEV</th>\n",
       "      <th>PAGT</th>\n",
       "      <th>PAGP</th>\n",
       "      <th>PAGC</th>\n",
       "      <th>PFOR90</th>\n",
       "      <th>PWETL95</th>\n",
       "    </tr>\n",
       "  </thead>\n",
       "  <tbody>\n",
       "    <tr>\n",
       "      <th>0</th>\n",
       "      <td>010100020101</td>\n",
       "      <td>100.0</td>\n",
       "      <td>81.643204</td>\n",
       "      <td>11.39250</td>\n",
       "      <td>0.0</td>\n",
       "      <td>0.0</td>\n",
       "      <td>0.0</td>\n",
       "      <td>0.0</td>\n",
       "      <td>92.245598</td>\n",
       "      <td>0.789988</td>\n",
       "    </tr>\n",
       "    <tr>\n",
       "      <th>1</th>\n",
       "      <td>010100020102</td>\n",
       "      <td>100.0</td>\n",
       "      <td>74.108200</td>\n",
       "      <td>12.30050</td>\n",
       "      <td>0.0</td>\n",
       "      <td>0.0</td>\n",
       "      <td>0.0</td>\n",
       "      <td>0.0</td>\n",
       "      <td>86.143501</td>\n",
       "      <td>0.265201</td>\n",
       "    </tr>\n",
       "    <tr>\n",
       "      <th>2</th>\n",
       "      <td>010100020103</td>\n",
       "      <td>100.0</td>\n",
       "      <td>78.816101</td>\n",
       "      <td>13.67510</td>\n",
       "      <td>0.0</td>\n",
       "      <td>0.0</td>\n",
       "      <td>0.0</td>\n",
       "      <td>0.0</td>\n",
       "      <td>92.095398</td>\n",
       "      <td>0.395778</td>\n",
       "    </tr>\n",
       "    <tr>\n",
       "      <th>3</th>\n",
       "      <td>010100020104</td>\n",
       "      <td>100.0</td>\n",
       "      <td>72.776901</td>\n",
       "      <td>7.57982</td>\n",
       "      <td>0.0</td>\n",
       "      <td>0.0</td>\n",
       "      <td>0.0</td>\n",
       "      <td>0.0</td>\n",
       "      <td>80.097702</td>\n",
       "      <td>0.259059</td>\n",
       "    </tr>\n",
       "    <tr>\n",
       "      <th>4</th>\n",
       "      <td>010100020105</td>\n",
       "      <td>100.0</td>\n",
       "      <td>74.281403</td>\n",
       "      <td>13.11650</td>\n",
       "      <td>0.0</td>\n",
       "      <td>0.0</td>\n",
       "      <td>0.0</td>\n",
       "      <td>0.0</td>\n",
       "      <td>81.182098</td>\n",
       "      <td>6.215810</td>\n",
       "    </tr>\n",
       "  </tbody>\n",
       "</table>\n",
       "</div>"
      ],
      "text/plain": [
       "         HUC_12  N_INDEX       PFOR     PWETL  PDEV  PAGT  PAGP  PAGC  \\\n",
       "0  010100020101    100.0  81.643204  11.39250   0.0   0.0   0.0   0.0   \n",
       "1  010100020102    100.0  74.108200  12.30050   0.0   0.0   0.0   0.0   \n",
       "2  010100020103    100.0  78.816101  13.67510   0.0   0.0   0.0   0.0   \n",
       "3  010100020104    100.0  72.776901   7.57982   0.0   0.0   0.0   0.0   \n",
       "4  010100020105    100.0  74.281403  13.11650   0.0   0.0   0.0   0.0   \n",
       "\n",
       "      PFOR90   PWETL95  \n",
       "0  92.245598  0.789988  \n",
       "1  86.143501  0.265201  \n",
       "2  92.095398  0.395778  \n",
       "3  80.097702  0.259059  \n",
       "4  81.182098  6.215810  "
      ]
     },
     "execution_count": 9,
     "metadata": {},
     "output_type": "execute_result"
    }
   ],
   "source": [
    "land_df.head()"
   ]
  },
  {
   "cell_type": "markdown",
   "metadata": {},
   "source": [
    "## 1. Basic calculations\n",
    "One of the most common things to do in pandas is to create new columns based on calculations between different variables (columns).\n",
    "\n",
    "We can create a new column `FOR_WET` in our DataFrame by specifying the name of the column and giving it some default value (in this case the decimal number 0.0)."
   ]
  },
  {
   "cell_type": "code",
   "execution_count": 10,
   "metadata": {},
   "outputs": [
    {
     "data": {
      "text/html": [
       "<div>\n",
       "<style scoped>\n",
       "    .dataframe tbody tr th:only-of-type {\n",
       "        vertical-align: middle;\n",
       "    }\n",
       "\n",
       "    .dataframe tbody tr th {\n",
       "        vertical-align: top;\n",
       "    }\n",
       "\n",
       "    .dataframe thead th {\n",
       "        text-align: right;\n",
       "    }\n",
       "</style>\n",
       "<table border=\"1\" class=\"dataframe\">\n",
       "  <thead>\n",
       "    <tr style=\"text-align: right;\">\n",
       "      <th></th>\n",
       "      <th>HUC_12</th>\n",
       "      <th>N_INDEX</th>\n",
       "      <th>PFOR</th>\n",
       "      <th>PWETL</th>\n",
       "      <th>PDEV</th>\n",
       "      <th>PAGT</th>\n",
       "      <th>PAGP</th>\n",
       "      <th>PAGC</th>\n",
       "      <th>PFOR90</th>\n",
       "      <th>PWETL95</th>\n",
       "      <th>FOR_WET</th>\n",
       "    </tr>\n",
       "  </thead>\n",
       "  <tbody>\n",
       "    <tr>\n",
       "      <th>0</th>\n",
       "      <td>010100020101</td>\n",
       "      <td>100.0</td>\n",
       "      <td>81.643204</td>\n",
       "      <td>11.39250</td>\n",
       "      <td>0.0</td>\n",
       "      <td>0.0</td>\n",
       "      <td>0.0</td>\n",
       "      <td>0.0</td>\n",
       "      <td>92.245598</td>\n",
       "      <td>0.789988</td>\n",
       "      <td>0.0</td>\n",
       "    </tr>\n",
       "    <tr>\n",
       "      <th>1</th>\n",
       "      <td>010100020102</td>\n",
       "      <td>100.0</td>\n",
       "      <td>74.108200</td>\n",
       "      <td>12.30050</td>\n",
       "      <td>0.0</td>\n",
       "      <td>0.0</td>\n",
       "      <td>0.0</td>\n",
       "      <td>0.0</td>\n",
       "      <td>86.143501</td>\n",
       "      <td>0.265201</td>\n",
       "      <td>0.0</td>\n",
       "    </tr>\n",
       "    <tr>\n",
       "      <th>2</th>\n",
       "      <td>010100020103</td>\n",
       "      <td>100.0</td>\n",
       "      <td>78.816101</td>\n",
       "      <td>13.67510</td>\n",
       "      <td>0.0</td>\n",
       "      <td>0.0</td>\n",
       "      <td>0.0</td>\n",
       "      <td>0.0</td>\n",
       "      <td>92.095398</td>\n",
       "      <td>0.395778</td>\n",
       "      <td>0.0</td>\n",
       "    </tr>\n",
       "    <tr>\n",
       "      <th>3</th>\n",
       "      <td>010100020104</td>\n",
       "      <td>100.0</td>\n",
       "      <td>72.776901</td>\n",
       "      <td>7.57982</td>\n",
       "      <td>0.0</td>\n",
       "      <td>0.0</td>\n",
       "      <td>0.0</td>\n",
       "      <td>0.0</td>\n",
       "      <td>80.097702</td>\n",
       "      <td>0.259059</td>\n",
       "      <td>0.0</td>\n",
       "    </tr>\n",
       "    <tr>\n",
       "      <th>4</th>\n",
       "      <td>010100020105</td>\n",
       "      <td>100.0</td>\n",
       "      <td>74.281403</td>\n",
       "      <td>13.11650</td>\n",
       "      <td>0.0</td>\n",
       "      <td>0.0</td>\n",
       "      <td>0.0</td>\n",
       "      <td>0.0</td>\n",
       "      <td>81.182098</td>\n",
       "      <td>6.215810</td>\n",
       "      <td>0.0</td>\n",
       "    </tr>\n",
       "  </tbody>\n",
       "</table>\n",
       "</div>"
      ],
      "text/plain": [
       "         HUC_12  N_INDEX       PFOR     PWETL  PDEV  PAGT  PAGP  PAGC  \\\n",
       "0  010100020101    100.0  81.643204  11.39250   0.0   0.0   0.0   0.0   \n",
       "1  010100020102    100.0  74.108200  12.30050   0.0   0.0   0.0   0.0   \n",
       "2  010100020103    100.0  78.816101  13.67510   0.0   0.0   0.0   0.0   \n",
       "3  010100020104    100.0  72.776901   7.57982   0.0   0.0   0.0   0.0   \n",
       "4  010100020105    100.0  74.281403  13.11650   0.0   0.0   0.0   0.0   \n",
       "\n",
       "      PFOR90   PWETL95  FOR_WET  \n",
       "0  92.245598  0.789988      0.0  \n",
       "1  86.143501  0.265201      0.0  \n",
       "2  92.095398  0.395778      0.0  \n",
       "3  80.097702  0.259059      0.0  \n",
       "4  81.182098  6.215810      0.0  "
      ]
     },
     "execution_count": 10,
     "metadata": {},
     "output_type": "execute_result"
    }
   ],
   "source": [
    "#Define a new column \"FOR_WET\"\n",
    "land_df['FOR_WET'] = 0.0\n",
    "\n",
    "#Check how the dataframe looks now\n",
    "land_df.head()"
   ]
  },
  {
   "cell_type": "code",
   "execution_count": 11,
   "metadata": {},
   "outputs": [
    {
     "data": {
      "text/plain": [
       "dtype('float64')"
      ]
     },
     "execution_count": 11,
     "metadata": {},
     "output_type": "execute_result"
    }
   ],
   "source": [
    "#Check the datatype of the newly created column\n",
    "land_df['FOR_WET'].dtypes"
   ]
  },
  {
   "cell_type": "markdown",
   "metadata": {},
   "source": [
    "We see that Pandas created a new column and recognized automatically that the data type is float as we passed a 0.0 value to it.\n",
    "\n",
    "Let’s update the column `FOR_WET` by calculating the sum of `PFOR` and `PWETL` columns to get an idea how much each HUC12 is either forest or wetland:"
   ]
  },
  {
   "cell_type": "code",
   "execution_count": 13,
   "metadata": {},
   "outputs": [
    {
     "data": {
      "text/html": [
       "<div>\n",
       "<style scoped>\n",
       "    .dataframe tbody tr th:only-of-type {\n",
       "        vertical-align: middle;\n",
       "    }\n",
       "\n",
       "    .dataframe tbody tr th {\n",
       "        vertical-align: top;\n",
       "    }\n",
       "\n",
       "    .dataframe thead th {\n",
       "        text-align: right;\n",
       "    }\n",
       "</style>\n",
       "<table border=\"1\" class=\"dataframe\">\n",
       "  <thead>\n",
       "    <tr style=\"text-align: right;\">\n",
       "      <th></th>\n",
       "      <th>HUC_12</th>\n",
       "      <th>N_INDEX</th>\n",
       "      <th>PFOR</th>\n",
       "      <th>PWETL</th>\n",
       "      <th>PDEV</th>\n",
       "      <th>PAGT</th>\n",
       "      <th>PAGP</th>\n",
       "      <th>PAGC</th>\n",
       "      <th>PFOR90</th>\n",
       "      <th>PWETL95</th>\n",
       "      <th>FOR_WET</th>\n",
       "    </tr>\n",
       "  </thead>\n",
       "  <tbody>\n",
       "    <tr>\n",
       "      <th>5964</th>\n",
       "      <td>030300030205</td>\n",
       "      <td>67.609398</td>\n",
       "      <td>57.266399</td>\n",
       "      <td>0.334891</td>\n",
       "      <td>4.443750</td>\n",
       "      <td>27.946899</td>\n",
       "      <td>23.622700</td>\n",
       "      <td>4.324150</td>\n",
       "      <td>57.601299</td>\n",
       "      <td>0.000000</td>\n",
       "      <td>57.601290</td>\n",
       "    </tr>\n",
       "    <tr>\n",
       "      <th>38721</th>\n",
       "      <td>101303040108</td>\n",
       "      <td>97.071899</td>\n",
       "      <td>0.005208</td>\n",
       "      <td>0.290625</td>\n",
       "      <td>0.619792</td>\n",
       "      <td>2.308330</td>\n",
       "      <td>1.889580</td>\n",
       "      <td>0.418750</td>\n",
       "      <td>0.267708</td>\n",
       "      <td>0.028125</td>\n",
       "      <td>0.295833</td>\n",
       "    </tr>\n",
       "    <tr>\n",
       "      <th>12901</th>\n",
       "      <td>040201010205</td>\n",
       "      <td>81.829498</td>\n",
       "      <td>51.464699</td>\n",
       "      <td>27.174000</td>\n",
       "      <td>7.159860</td>\n",
       "      <td>11.010700</td>\n",
       "      <td>3.367090</td>\n",
       "      <td>7.643600</td>\n",
       "      <td>75.214203</td>\n",
       "      <td>3.424460</td>\n",
       "      <td>78.638699</td>\n",
       "    </tr>\n",
       "    <tr>\n",
       "      <th>55345</th>\n",
       "      <td>120901050201</td>\n",
       "      <td>57.076199</td>\n",
       "      <td>2.183260</td>\n",
       "      <td>0.085683</td>\n",
       "      <td>22.918501</td>\n",
       "      <td>20.005301</td>\n",
       "      <td>0.227389</td>\n",
       "      <td>19.777901</td>\n",
       "      <td>2.268940</td>\n",
       "      <td>0.000000</td>\n",
       "      <td>2.268943</td>\n",
       "    </tr>\n",
       "    <tr>\n",
       "      <th>40126</th>\n",
       "      <td>101600050402</td>\n",
       "      <td>2.462090</td>\n",
       "      <td>0.405685</td>\n",
       "      <td>1.306590</td>\n",
       "      <td>3.881990</td>\n",
       "      <td>93.655899</td>\n",
       "      <td>3.859600</td>\n",
       "      <td>89.796303</td>\n",
       "      <td>0.405685</td>\n",
       "      <td>1.306590</td>\n",
       "      <td>1.712275</td>\n",
       "    </tr>\n",
       "  </tbody>\n",
       "</table>\n",
       "</div>"
      ],
      "text/plain": [
       "             HUC_12    N_INDEX       PFOR      PWETL       PDEV       PAGT  \\\n",
       "5964   030300030205  67.609398  57.266399   0.334891   4.443750  27.946899   \n",
       "38721  101303040108  97.071899   0.005208   0.290625   0.619792   2.308330   \n",
       "12901  040201010205  81.829498  51.464699  27.174000   7.159860  11.010700   \n",
       "55345  120901050201  57.076199   2.183260   0.085683  22.918501  20.005301   \n",
       "40126  101600050402   2.462090   0.405685   1.306590   3.881990  93.655899   \n",
       "\n",
       "            PAGP       PAGC     PFOR90   PWETL95    FOR_WET  \n",
       "5964   23.622700   4.324150  57.601299  0.000000  57.601290  \n",
       "38721   1.889580   0.418750   0.267708  0.028125   0.295833  \n",
       "12901   3.367090   7.643600  75.214203  3.424460  78.638699  \n",
       "55345   0.227389  19.777901   2.268940  0.000000   2.268943  \n",
       "40126   3.859600  89.796303   0.405685  1.306590   1.712275  "
      ]
     },
     "execution_count": 13,
     "metadata": {},
     "output_type": "execute_result"
    }
   ],
   "source": [
    "#Calculate the sum of forest and wetland\n",
    "land_df['FOR_WET'] = land_df['PFOR'] + land_df['PWETL']\n",
    "\n",
    "#Check the result\n",
    "land_df.sample(5)"
   ]
  },
  {
   "cell_type": "markdown",
   "metadata": {},
   "source": [
    "The calculations were stored into the `FOR_WET` field as expected."
   ]
  },
  {
   "cell_type": "markdown",
   "metadata": {},
   "source": [
    "## 2. Filtering and updating data\n",
    "In the previous exercise, we reviewed how we can select specific columns from our data. Let's improve on that with some examples on how to select both sets of rows and columns.\n",
    "\n",
    "### Indices and Selecting rows\n",
    "Rows in a dataframe can be selected by their indices, but we have a choice indices to use: a *labeled* index or an *intrinsic* index. So what's the difference, and why are there two?\n",
    "\n",
    "* The **label index** is a value assigned to each row that we can control. By default, when we import a CSV file into a dataframe, this index is simply a numeric value assigned sequentially to each row. However, we can assign this index to be any value. In our case, we could \n",
    "\n",
    "* The **intinrisic index** (also knows as the *integer index("
   ]
  },
  {
   "cell_type": "code",
   "execution_count": 14,
   "metadata": {},
   "outputs": [
    {
     "data": {
      "text/plain": [
       "RangeIndex(start=0, stop=82915, step=1)"
      ]
     },
     "execution_count": 14,
     "metadata": {},
     "output_type": "execute_result"
    }
   ],
   "source": [
    "land_df.index"
   ]
  },
  {
   "cell_type": "markdown",
   "metadata": {},
   "source": [
    "## 3. Dealing with missing data"
   ]
  },
  {
   "cell_type": "markdown",
   "metadata": {},
   "source": [
    "## 4. Data type conversions"
   ]
  },
  {
   "cell_type": "markdown",
   "metadata": {},
   "source": [
    "## 5. Unique values"
   ]
  },
  {
   "cell_type": "markdown",
   "metadata": {},
   "source": [
    "## 6. Sorting data"
   ]
  },
  {
   "cell_type": "markdown",
   "metadata": {},
   "source": [
    "## 7. Grouping and transforming data"
   ]
  },
  {
   "cell_type": "markdown",
   "metadata": {},
   "source": [
    "## 8. Joining data"
   ]
  },
  {
   "cell_type": "markdown",
   "metadata": {},
   "source": [
    "## 9. Writing data to a file"
   ]
  }
 ],
 "metadata": {
  "kernelspec": {
   "display_name": "Python 3",
   "language": "python",
   "name": "python3"
  },
  "language_info": {
   "codemirror_mode": {
    "name": "ipython",
    "version": 3
   },
   "file_extension": ".py",
   "mimetype": "text/x-python",
   "name": "python",
   "nbconvert_exporter": "python",
   "pygments_lexer": "ipython3",
   "version": "3.6.10"
  }
 },
 "nbformat": 4,
 "nbformat_minor": 4
}
